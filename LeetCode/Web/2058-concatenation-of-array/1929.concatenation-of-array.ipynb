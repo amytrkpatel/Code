{
 "cells": [
  {
   "cell_type": "markdown",
   "metadata": {},
   "source": [
    "### concatenation-of-array\n",
    "\n",
    "Problem Link :> https://leetcode.com/problems/concatenation-of-array/description/"
   ]
  },
  {
   "cell_type": "markdown",
   "metadata": {},
   "source": [
    "\n",
    "```python\n",
    "Given an integer array nums of length n, you want to create an array ans of length 2n where ans[i] == nums[i] and ans[i + n] == nums[i] for 0 <= i < n (0-indexed).\n",
    "\n",
    "Specifically, ans is the concatenation of two nums arrays.\n",
    "\n",
    "Return the array ans.\n",
    "\n",
    "\n",
    "Example 1:\n",
    "\n",
    "Input: nums = [1,2,1]\n",
    "Output: [1,2,1,1,2,1]\n",
    "Explanation: The array ans is formed as follows:\n",
    "- ans = [nums[0],nums[1],nums[2],nums[0],nums[1],nums[2]]\n",
    "- ans = [1,2,1,1,2,1]\n",
    "Example 2:\n",
    "\n",
    "Input: nums = [1,3,2,1]\n",
    "Output: [1,3,2,1,1,3,2,1]\n",
    "Explanation: The array ans is formed as follows:\n",
    "- ans = [nums[0],nums[1],nums[2],nums[3],nums[0],nums[1],nums[2],nums[3]]\n",
    "- ans = [1,3,2,1,1,3,2,1]\n",
    " \n",
    "\n",
    "Constraints:\n",
    "\n",
    "n == nums.length\n",
    "1 <= n <= 1000\n",
    "1 <= nums[i] <= 1000\n",
    "```"
   ]
  },
  {
   "cell_type": "markdown",
   "metadata": {},
   "source": [
    "#### Approach1:\n",
    "copy pasting the array and then concatenating it\n",
    "#### Complexity analysis\n",
    "Use Website: https://www.timecomplexity.ai/"
   ]
  },
  {
   "cell_type": "code",
   "execution_count": 5,
   "metadata": {},
   "outputs": [],
   "source": [
    "def getConcatenation(nums: list[int]) -> list[int]:\n",
    "        nums_copy = nums\n",
    "        extended_nums = nums + nums_copy\n",
    "        return extended_nums"
   ]
  },
  {
   "cell_type": "code",
   "execution_count": 6,
   "metadata": {},
   "outputs": [
    {
     "name": "stdout",
     "output_type": "stream",
     "text": [
      "1\n",
      "1 2 2 1\n",
      "[1, 2, 2, 1, 1, 2, 2, 1]\n"
     ]
    }
   ],
   "source": [
    "# ? Driver code\n",
    "if __name__==\"__main__\":\n",
    "    t = int(input())\n",
    "    for _ in range(t):\n",
    "        nums = [int(x) for x in input().split()]\n",
    "        print(getConcatenation(nums))"
   ]
  },
  {
   "cell_type": "code",
   "execution_count": null,
   "metadata": {},
   "outputs": [],
   "source": []
  }
 ],
 "metadata": {
  "kernelspec": {
   "display_name": "Python 3 (ipykernel)",
   "language": "python",
   "name": "python3"
  },
  "language_info": {
   "codemirror_mode": {
    "name": "ipython",
    "version": 3
   },
   "file_extension": ".py",
   "mimetype": "text/x-python",
   "name": "python",
   "nbconvert_exporter": "python",
   "pygments_lexer": "ipython3",
   "version": "3.11.3"
  },
  "vscode": {
   "interpreter": {
    "hash": "26de051ba29f2982a8de78e945f0abaf191376122a1563185a90213a26c5da77"
   }
  }
 },
 "nbformat": 4,
 "nbformat_minor": 2
}
