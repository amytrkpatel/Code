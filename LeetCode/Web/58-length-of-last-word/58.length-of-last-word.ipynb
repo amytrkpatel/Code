{
 "cells": [
  {
   "cell_type": "markdown",
   "id": "1a9a9c6f",
   "metadata": {},
   "source": [
    "### Length of Last Word\n",
    "\n",
    "Link :> https://leetcode.com/problems/length-of-last-word/description/"
   ]
  },
  {
   "cell_type": "markdown",
   "id": "23f6eba5",
   "metadata": {},
   "source": [
    "```python\n",
    "Given a string s consisting of words and spaces, return the length of the last word in the string.\n",
    "\n",
    "A word is a maximal \n",
    "substring\n",
    " consisting of non-space characters only.\n",
    "\n",
    " \n",
    "\n",
    "Example 1:\n",
    "\n",
    "Input: s = \"Hello World\"\n",
    "Output: 5\n",
    "Explanation: The last word is \"World\" with length 5.\n",
    "Example 2:\n",
    "\n",
    "Input: s = \"   fly me   to   the moon  \"\n",
    "Output: 4\n",
    "Explanation: The last word is \"moon\" with length 4.\n",
    "Example 3:\n",
    "\n",
    "Input: s = \"luffy is still joyboy\"\n",
    "Output: 6\n",
    "Explanation: The last word is \"joyboy\" with length 6.\n",
    " \n",
    "\n",
    "Constraints:\n",
    "\n",
    "1 <= s.length <= 104\n",
    "s consists of only English letters and spaces ' '.\n",
    "There will be at least one word in s.\n",
    "```"
   ]
  },
  {
   "cell_type": "markdown",
   "id": "296cb755",
   "metadata": {},
   "source": [
    "#### Approach1:\n",
    "\n",
    "splitting the Sentence basis of spaces and trying to find out the last word and get its length"
   ]
  },
  {
   "cell_type": "code",
   "execution_count": 3,
   "id": "3a99e434",
   "metadata": {},
   "outputs": [
    {
     "name": "stdout",
     "output_type": "stream",
     "text": [
      "4\n"
     ]
    }
   ],
   "source": [
    "def lengthOfLastWord(str):\n",
    "    lst = []\n",
    "    lst = str.strip().split(' ')\n",
    "    return len(lst[-1])\n",
    "\n",
    "#Driver code\n",
    "if __name__==\"__main__\":\n",
    "    t = int(input('Enter Number of TestCases'))\n",
    "    for _ in range(t):\n",
    "        str = input()\n",
    "        print(lengthOfLastWord(str))"
   ]
  }
 ],
 "metadata": {
  "kernelspec": {
   "display_name": "Python 3 (ipykernel)",
   "language": "python",
   "name": "python3"
  },
  "language_info": {
   "codemirror_mode": {
    "name": "ipython",
    "version": 3
   },
   "file_extension": ".py",
   "mimetype": "text/x-python",
   "name": "python",
   "nbconvert_exporter": "python",
   "pygments_lexer": "ipython3",
   "version": "3.11.3"
  }
 },
 "nbformat": 4,
 "nbformat_minor": 5
}
