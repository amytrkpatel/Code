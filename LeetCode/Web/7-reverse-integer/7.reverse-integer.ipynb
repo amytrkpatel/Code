{
 "cells": [
  {
   "cell_type": "markdown",
   "metadata": {},
   "source": [
    "### 7. Reverse Integer\n",
    "\n",
    "Problem Link :> https://leetcode.com/problems/reverse-integer/description/\n",
    "\n",
    "```python\n",
    "Given a signed 32-bit integer x, return x with its digits reversed. If reversing x causes the value to go outside the signed 32-bit integer range [-231, 231 - 1], then return 0.\n",
    "\n",
    "Assume the environment does not allow you to store 64-bit integers (signed or unsigned).\n",
    "\n",
    "\n",
    "Example 1:\n",
    "\n",
    "Input: x = 123\n",
    "Output: 321\n",
    "Example 2:\n",
    "\n",
    "Input: x = -123\n",
    "Output: -321\n",
    "Example 3:\n",
    "\n",
    "Input: x = 120\n",
    "Output: 21\n",
    " \n",
    "\n",
    "Constraints:\n",
    "\n",
    "-231 <= x <= 231 - 1\n",
    "```"
   ]
  },
  {
   "cell_type": "markdown",
   "metadata": {},
   "source": [
    "#### Approach1: Using Type Conversion & slicing in python and bit_length() function \n",
    "\n",
    "#### Complexity analysis\n",
    "O(n)\n",
    "Use Website: https://www.timecomplexity.ai/"
   ]
  },
  {
   "cell_type": "code",
   "execution_count": 22,
   "metadata": {},
   "outputs": [
    {
     "name": "stdout",
     "output_type": "stream",
     "text": [
      "32\n",
      "2147483651\n"
     ]
    }
   ],
   "source": [
    "def reverse(x):\n",
    "    y = str(x)\n",
    "    \n",
    "    #Check if its a negative number\n",
    "    if x >= 0:\n",
    "        y = y[::-1]\n",
    "    else:\n",
    "        y = \"-\" + y[:0:-1]\n",
    "    y = int(y)\n",
    "    \n",
    "    #Check bit length of a number\n",
    "    if y.bit_length() >= 32:\n",
    "        return 0\n",
    "    else:\n",
    "        return y\n",
    "\n",
    "#Driver code\n",
    "if __name__==\"__main__\":\n",
    "    t = int(input('Enter Number of TestCases'))\n",
    "    for _ in range(t):\n",
    "        x = int(input()) # ! Number input\n",
    "        print(reverse(x))"
   ]
  },
  {
   "cell_type": "markdown",
   "metadata": {},
   "source": [
    "#### Approach 2:\n",
    "Using modulo and division operators to separate unit digit and then later multiplying it with 10 to get the reverse number.\n",
    "\n",
    "#### Complexity analysis\n",
    "O(log(n)) - The time complexity of the reverse function is O(log(n)) because the while loop iterates through the digits of the input integer x, which has log(n) digits where n is the value of x. Each iteration of the loop involves dividing x by 10, which reduces the size of x by a factor of 10. Therefore, the time complexity is logarithmic in the value of x.\n",
    "\n",
    "Use Website: https://www.timecomplexity.ai/"
   ]
  },
  {
   "cell_type": "code",
   "execution_count": 3,
   "metadata": {},
   "outputs": [
    {
     "name": "stdout",
     "output_type": "stream",
     "text": [
      "iteration:  0\n",
      "unit digit:  3\n",
      "reversed digit:  3\n",
      "remaining x:  12\n",
      "iteration:  1\n",
      "unit digit:  2\n",
      "reversed digit:  32\n",
      "remaining x:  1\n",
      "iteration:  2\n",
      "unit digit:  1\n",
      "reversed digit:  321\n",
      "remaining x:  0\n",
      "9\n",
      "321\n"
     ]
    }
   ],
   "source": [
    "def reverse(x):\n",
    "    #write your code here\n",
    "    i = 0\n",
    "    reversed_x = 0\n",
    "    is_negative = False\n",
    "    \n",
    "    if x < 0:\n",
    "        is_negative = True\n",
    "        x = -1 * x\n",
    "    \n",
    "    while x:\n",
    "        print(\"iteration: \",i)\n",
    "        unit = x % 10\n",
    "        print(\"unit digit: \", unit)\n",
    "        reversed_x = reversed_x * 10 + unit\n",
    "        print(\"reversed digit: \",reversed_x)\n",
    "        x = x // 10\n",
    "        print(\"remaining x: \",x)\n",
    "        i += 1\n",
    "    print(reversed_x.bit_length())\n",
    "    if reversed_x.bit_length() >= 32:\n",
    "        return 0\n",
    "    elif is_negative:\n",
    "        return -1 * reversed_x\n",
    "    else:\n",
    "        return reversed_x\n",
    "\n",
    "#Driver code\n",
    "if __name__==\"__main__\":\n",
    "    t = int(input('Enter Number of TestCases: '))\n",
    "    for _ in range(t):\n",
    "        x = int(input()) # ! Number input\n",
    "        print(reverse(x))"
   ]
  }
 ],
 "metadata": {
  "kernelspec": {
   "display_name": "Python 3 (ipykernel)",
   "language": "python",
   "name": "python3"
  },
  "language_info": {
   "codemirror_mode": {
    "name": "ipython",
    "version": 3
   },
   "file_extension": ".py",
   "mimetype": "text/x-python",
   "name": "python",
   "nbconvert_exporter": "python",
   "pygments_lexer": "ipython3",
   "version": "3.11.3"
  },
  "vscode": {
   "interpreter": {
    "hash": "26de051ba29f2982a8de78e945f0abaf191376122a1563185a90213a26c5da77"
   }
  }
 },
 "nbformat": 4,
 "nbformat_minor": 2
}
