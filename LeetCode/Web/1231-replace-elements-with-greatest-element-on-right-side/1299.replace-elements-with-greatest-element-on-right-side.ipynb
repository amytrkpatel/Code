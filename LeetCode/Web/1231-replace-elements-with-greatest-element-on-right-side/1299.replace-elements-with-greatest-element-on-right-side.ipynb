{
 "cells": [
  {
   "cell_type": "markdown",
   "metadata": {},
   "source": [
    "### Replace Elements with Greatest Element on Right Side\n",
    "\n",
    "Problem Link :> https://leetcode.com/problems/replace-elements-with-greatest-element-on-right-side/\n",
    "\n",
    "```python\n",
    "Given an array arr, replace every element in that array with the greatest element among the elements to its right, and replace the last element with -1.\n",
    "\n",
    "After doing so, return the array.\n",
    "\n",
    " \n",
    "\n",
    "Example 1:\n",
    "\n",
    "Input: arr = [17,18,5,4,6,1]\n",
    "Output: [18,6,6,6,1,-1]\n",
    "Explanation: \n",
    "- index 0 --> the greatest element to the right of index 0 is index 1 (18).\n",
    "- index 1 --> the greatest element to the right of index 1 is index 4 (6).\n",
    "- index 2 --> the greatest element to the right of index 2 is index 4 (6).\n",
    "- index 3 --> the greatest element to the right of index 3 is index 4 (6).\n",
    "- index 4 --> the greatest element to the right of index 4 is index 5 (1).\n",
    "- index 5 --> there are no elements to the right of index 5, so we put -1.\n",
    "Example 2:\n",
    "\n",
    "Input: arr = [400]\n",
    "Output: [-1]\n",
    "Explanation: There are no elements to the right of index 0.\n",
    " \n",
    "\n",
    "Constraints:\n",
    "\n",
    "1 <= arr.length <= 104\n",
    "1 <= arr[i] <= 105\n",
    "```"
   ]
  },
  {
   "cell_type": "markdown",
   "metadata": {},
   "source": [
    "#### Method 1: plain brute force O(n^2) approach (SLOW)\n",
    "Traversing the array from one side and for each element traversing the rest of the array (nested loop).\n",
    "\n",
    "Time Limit Exceeded"
   ]
  },
  {
   "cell_type": "code",
   "execution_count": null,
   "metadata": {},
   "outputs": [],
   "source": [
    "def replace_greatest_right(arr: list[int]) -> list[int]:\n",
    "    max = -1\n",
    "    if len(arr) <= 1:\n",
    "        arr[0] = max\n",
    "    else:\n",
    "        for i in range(len(arr)):\n",
    "            for j in range(i+1, len(arr)):\n",
    "                if arr[j] > max:\n",
    "                    max = arr[j]\n",
    "            arr[i] = max\n",
    "            max = -1\n",
    "    return arr\n",
    "\n",
    "#Driver code\n",
    "if __name__==\"__main__\":\n",
    "    t = int(input())\n",
    "    for _ in range(t):\n",
    "        arr: list[int] = [int(x) for x in input().split()]\n",
    "        print(replace_greatest_right(arr))"
   ]
  },
  {
   "cell_type": "markdown",
   "metadata": {},
   "source": [
    "#### Method 2: Traversing Backwards and comparing\n",
    "Single loop O(N) solution\n"
   ]
  },
  {
   "cell_type": "code",
   "execution_count": null,
   "metadata": {},
   "outputs": [],
   "source": [
    "def replace_greatest_right(arr: list[int]) -> list[int]:\n",
    "    max = -1\n",
    "    for i in range(len(arr)-1, -1, -1):\n",
    "        element = arr[i]\n",
    "        arr[i] = max\n",
    "        if(element > max):\n",
    "            max = element\n",
    "    return arr\n",
    "\n",
    "#Driver code\n",
    "if __name__==\"__main__\":\n",
    "    t = int(input())\n",
    "    for _ in range(t):\n",
    "        arr: list[int] = [int(x) for x in input().split()]\n",
    "        print(replace_greatest_right(arr))"
   ]
  }
 ],
 "metadata": {
  "kernelspec": {
   "display_name": "Python 3 (ipykernel)",
   "language": "python",
   "name": "python3"
  },
  "language_info": {
   "codemirror_mode": {
    "name": "ipython",
    "version": 3
   },
   "file_extension": ".py",
   "mimetype": "text/x-python",
   "name": "python",
   "nbconvert_exporter": "python",
   "pygments_lexer": "ipython3",
   "version": "3.11.3"
  },
  "vscode": {
   "interpreter": {
    "hash": "26de051ba29f2982a8de78e945f0abaf191376122a1563185a90213a26c5da77"
   }
  }
 },
 "nbformat": 4,
 "nbformat_minor": 2
}
