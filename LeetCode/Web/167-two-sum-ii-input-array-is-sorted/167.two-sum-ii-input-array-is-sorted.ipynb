{
 "cells": [
  {
   "cell_type": "markdown",
   "metadata": {},
   "source": [
    "### 167. Two Sum II - Input Array Is Sorted\n",
    "\n",
    "Problem Link :> https://leetcode.com/problems/two-sum-ii-input-array-is-sorted/description/\n",
    "\n",
    "```python\n",
    "Given a 1-indexed array of integers numbers that is already sorted in non-decreasing order, find two numbers such that they add up to a specific target number. Let these two numbers be numbers[index1] and numbers[index2] where 1 <= index1 < index2 <= numbers.length.\n",
    "\n",
    "Return the indices of the two numbers, index1 and index2, added by one as an integer array [index1, index2] of length 2.\n",
    "\n",
    "The tests are generated such that there is exactly one solution. You may not use the same element twice.\n",
    "\n",
    "Your solution must use only constant extra space.\n",
    "\n",
    " \n",
    "\n",
    "Example 1:\n",
    "\n",
    "Input: numbers = [2,7,11,15], target = 9\n",
    "Output: [1,2]\n",
    "Explanation: The sum of 2 and 7 is 9. Therefore, index1 = 1, index2 = 2. We return [1, 2].\n",
    "Example 2:\n",
    "\n",
    "Input: numbers = [2,3,4], target = 6\n",
    "Output: [1,3]\n",
    "Explanation: The sum of 2 and 4 is 6. Therefore index1 = 1, index2 = 3. We return [1, 3].\n",
    "Example 3:\n",
    "\n",
    "Input: numbers = [-1,0], target = -1\n",
    "Output: [1,2]\n",
    "Explanation: The sum of -1 and 0 is -1. Therefore index1 = 1, index2 = 2. We return [1, 2].\n",
    " \n",
    "\n",
    "Constraints:\n",
    "\n",
    "2 <= numbers.length <= 3 * 104\n",
    "-1000 <= numbers[i] <= 1000\n",
    "numbers is sorted in non-decreasing order.\n",
    "-1000 <= target <= 1000\n",
    "The tests are generated such that there is exactly one solution.\n",
    "```"
   ]
  },
  {
   "cell_type": "markdown",
   "metadata": {},
   "source": [
    "#### Approach1:\n",
    "using index() is always returning the first index of the occurance and hence is failing in case of [0,0,3,4] where target is 0.\n",
    "#### Complexity analysis\n",
    "Use Website: https://www.timecomplexity.ai/"
   ]
  },
  {
   "cell_type": "code",
   "execution_count": 22,
   "metadata": {},
   "outputs": [
    {
     "name": "stdout",
     "output_type": "stream",
     "text": [
      "[1, 2]\n"
     ]
    }
   ],
   "source": [
    "def twoSum(numbers, target):\n",
    "    temp_target = target\n",
    "    result = []\n",
    "    second = 0\n",
    "    for i in numbers:\n",
    "        if (temp_target - i) in numbers:\n",
    "            result = [numbers.index(i) + 1, numbers.index(temp_target - i) + 1]\n",
    "            if (i == temp_target) and temp_target == (temp_target - i):\n",
    "                for ind, x in enumerate(numbers[i+1:], numbers.index(i)+1):\n",
    "                    if x == (temp_target - i):\n",
    "                        second = ind\n",
    "                result = [numbers.index(i) + 1, second + 1]\n",
    "        return result\n",
    "\n",
    "#Driver code\n",
    "if __name__==\"__main__\":\n",
    "    t = int(input('Enter Number of TestCases'))\n",
    "    for _ in range(t):\n",
    "        numbers = list(map(int,input('Enter Space separated Array').split())) # ! for taking space separated ints input as array\n",
    "        target = int(input()) # ! Number input\n",
    "        print(twoSum(numbers, target))"
   ]
  },
  {
   "cell_type": "markdown",
   "metadata": {},
   "source": [
    "#### Approach 2:\n",
    "using two pointers from left/right and shifting left if sum is less than target and shifting right if sum is greater than target\n",
    "#### Complexity analysis\n",
    "Use Website: https://www.timecomplexity.ai/"
   ]
  },
  {
   "cell_type": "code",
   "execution_count": 23,
   "metadata": {},
   "outputs": [
    {
     "name": "stdout",
     "output_type": "stream",
     "text": [
      "[1, 2]\n"
     ]
    }
   ],
   "source": [
    "def twoSum(numbers, target):\n",
    "    left, right = 0, len(numbers)-1\n",
    "    while left < right:\n",
    "        currentSum = numbers[left] + numbers[right]\n",
    "        \n",
    "        if currentSum > target:\n",
    "            right -= 1\n",
    "        elif currentSum < target:\n",
    "            left += 1\n",
    "        else:\n",
    "            return [left + 1, right + 1]\n",
    "\n",
    "#Driver code\n",
    "if __name__==\"__main__\":\n",
    "    t = int(input('Enter Number of TestCases'))\n",
    "    for _ in range(t):\n",
    "        numbers = list(map(int,input('Enter Space separated Array').split())) # ! for taking space separated ints input as array\n",
    "        target = int(input()) # ! Number input\n",
    "        print(twoSum(numbers, target))"
   ]
  },
  {
   "cell_type": "code",
   "execution_count": null,
   "metadata": {},
   "outputs": [],
   "source": []
  }
 ],
 "metadata": {
  "kernelspec": {
   "display_name": "Python 3 (ipykernel)",
   "language": "python",
   "name": "python3"
  },
  "language_info": {
   "codemirror_mode": {
    "name": "ipython",
    "version": 3
   },
   "file_extension": ".py",
   "mimetype": "text/x-python",
   "name": "python",
   "nbconvert_exporter": "python",
   "pygments_lexer": "ipython3",
   "version": "3.11.3"
  },
  "vscode": {
   "interpreter": {
    "hash": "26de051ba29f2982a8de78e945f0abaf191376122a1563185a90213a26c5da77"
   }
  }
 },
 "nbformat": 4,
 "nbformat_minor": 2
}
