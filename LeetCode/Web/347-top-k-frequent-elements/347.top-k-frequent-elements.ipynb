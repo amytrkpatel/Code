{
 "cells": [
  {
   "cell_type": "markdown",
   "metadata": {},
   "source": [
    "### 347. Top K Frequent Elements\n",
    "\n",
    "Problem Link :> https://leetcode.com/problems/top-k-frequent-elements/description/\n",
    "\n",
    "```python\n",
    "Given an integer array nums and an integer k, return the k most frequent elements. You may return the answer in any order.\n",
    "\n",
    " \n",
    "\n",
    "Example 1:\n",
    "\n",
    "Input: nums = [1,1,1,2,2,3], k = 2\n",
    "Output: [1,2]\n",
    "Example 2:\n",
    "\n",
    "Input: nums = [1], k = 1\n",
    "Output: [1]\n",
    " \n",
    "\n",
    "Constraints:\n",
    "\n",
    "1 <= nums.length <= 105\n",
    "-104 <= nums[i] <= 104\n",
    "k is in the range [1, the number of unique elements in the array].\n",
    "It is guaranteed that the answer is unique.\n",
    " \n",
    "\n",
    "Follow up: Your algorithm's time complexity must be better than O(n log n), where n is the array's size.\n",
    "```"
   ]
  },
  {
   "cell_type": "markdown",
   "metadata": {},
   "source": [
    "#### Approach1:\n",
    "Using dictionary to count the frequency of each element and store them in a key value pair. Later iterating that dictionary to find out k most frequent elements.\n",
    "#### Complexity analysis\n",
    "Use Website: https://www.timecomplexity.ai/"
   ]
  },
  {
   "cell_type": "code",
   "execution_count": 7,
   "metadata": {},
   "outputs": [
    {
     "name": "stdout",
     "output_type": "stream",
     "text": [
      "{1: 3, 2: 2, 3: 1}\n",
      "[1, 2]\n"
     ]
    }
   ],
   "source": [
    "def topKFrequent(nums,k):\n",
    "    freq_dict = {i:0 for i in nums}\n",
    "    for i in nums:\n",
    "        freq_dict[i] += 1\n",
    "    \n",
    "    sorted_dict = dict(sorted(freq_dict.items(), key=lambda item: item[1], reverse=True))\n",
    "    print(sorted_dict)\n",
    "    \n",
    "    result = []\n",
    "    \n",
    "    for key,value in sorted_dict.items():\n",
    "        k -= 1\n",
    "        result.append(key)\n",
    "        if k == 0:\n",
    "            return result\n",
    "\n",
    "#Driver code\n",
    "if __name__==\"__main__\":\n",
    "    t = int(input('Enter Number of TestCases'))\n",
    "    for _ in range(t):\n",
    "        nums = list(map(int,input('Enter Space separated Array').split())) # ! for taking space separated ints input as array\n",
    "        k = int(input()) # ! Number input\n",
    "        print(topKFrequent(nums,k))"
   ]
  },
  {
   "cell_type": "markdown",
   "metadata": {},
   "source": [
    "#### Approach 2 or Standard Solution\n",
    "explaination here\n",
    "#### Complexity analysis\n",
    "Use Website: https://www.timecomplexity.ai/"
   ]
  },
  {
   "cell_type": "code",
   "execution_count": 2,
   "metadata": {},
   "outputs": [],
   "source": [
    "#Code: use Python CP Template"
   ]
  }
 ],
 "metadata": {
  "kernelspec": {
   "display_name": "Python 3 (ipykernel)",
   "language": "python",
   "name": "python3"
  },
  "language_info": {
   "codemirror_mode": {
    "name": "ipython",
    "version": 3
   },
   "file_extension": ".py",
   "mimetype": "text/x-python",
   "name": "python",
   "nbconvert_exporter": "python",
   "pygments_lexer": "ipython3",
   "version": "3.11.3"
  },
  "vscode": {
   "interpreter": {
    "hash": "26de051ba29f2982a8de78e945f0abaf191376122a1563185a90213a26c5da77"
   }
  }
 },
 "nbformat": 4,
 "nbformat_minor": 2
}
