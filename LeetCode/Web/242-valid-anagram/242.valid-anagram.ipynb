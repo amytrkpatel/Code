{
 "cells": [
  {
   "cell_type": "markdown",
   "metadata": {},
   "source": [
    "Problem Link: https://leetcode.com/problems/valid-anagram/\n",
    "\n",
    "Given two strings s and t, return true if t is an anagram of s, and false otherwise.\n",
    "\n",
    "An Anagram is a word or phrase formed by rearranging the letters of a different word or phrase, typically using all the original letters exactly once.\n",
    "\n",
    "\n",
    "Example 1:\n",
    "Input: s = \"anagram\", t = \"nagaram\"\n",
    "Output: true\n",
    "\n",
    "Example 2:\n",
    "Input: s = \"rat\", t = \"car\"\n",
    "Output: false\n",
    "\n",
    "\n",
    "Constraints:\n",
    "1 <= s.length, t.length <= 5 * 104\n",
    "s and t consist of lowercase English letters."
   ]
  },
  {
   "cell_type": "markdown",
   "metadata": {},
   "source": [
    "#### Approach 1: summing up the frequency of all letters in s & t and matching them\n",
    "\n",
    "FAILED: cat & rat would be 3, but not anagrams"
   ]
  },
  {
   "cell_type": "code",
   "execution_count": null,
   "metadata": {},
   "outputs": [],
   "source": [
    "def is_anagram(s: str, t: str) -> bool:\n",
    "    \n",
    "    dict_s = {s[i]:0 for i in range(0, len(s))}\n",
    "    \n",
    "    for i in s:\n",
    "        dict_s[i] += 1\n",
    "    \n",
    "    dict_t = {t[j]:0 for j in range(0, len(t))}\n",
    "\n",
    "    for j in t:\n",
    "        dict_t[j] += 1\n",
    "    \n",
    "    if sum(dict_s.values()) == sum(dict_t.values()):\n",
    "        return True\n",
    "    return False"
   ]
  },
  {
   "cell_type": "markdown",
   "metadata": {},
   "source": [
    "#### Approach 2: Matching the frequency of each individual key-value pair"
   ]
  },
  {
   "cell_type": "code",
   "execution_count": null,
   "metadata": {},
   "outputs": [],
   "source": [
    "def is_anagram(s: str, t: str) -> bool:\n",
    "    if len(s) != len(t):\n",
    "        return False\n",
    "    \n",
    "    dict_s = {s[i]:0 for i in range(0, len(s))}\n",
    "        \n",
    "    for i in s:\n",
    "        dict_s[i] += 1\n",
    "    \n",
    "    dict_t = {t[j]:0 for j in range(0, len(t))}\n",
    "\n",
    "    for j in t:\n",
    "        dict_t[j] += 1\n",
    "    try:\n",
    "        for key, val in dict_s.items():\n",
    "            if dict_s[key] != dict_t[key]:\n",
    "                return False\n",
    "        return True\n",
    "    except Exception:\n",
    "        return False"
   ]
  },
  {
   "cell_type": "markdown",
   "metadata": {},
   "source": [
    "#### Approach 3: sort the strings and match\n",
    "LAME Approach"
   ]
  },
  {
   "cell_type": "code",
   "execution_count": null,
   "metadata": {},
   "outputs": [],
   "source": [
    "def is_anagram(s: str, t: str) -> bool:\n",
    "    \n",
    "    s = sorted(s)\n",
    "    t = sorted(t)\n",
    "\n",
    "    if s == t:\n",
    "        return True\n",
    "    return False"
   ]
  },
  {
   "cell_type": "markdown",
   "metadata": {},
   "source": [
    "#### Neetcode Solution"
   ]
  },
  {
   "cell_type": "code",
   "execution_count": 2,
   "metadata": {},
   "outputs": [
    {
     "name": "stdout",
     "output_type": "stream",
     "text": [
      "1\n",
      "cat\n",
      "rat\n",
      "False\n"
     ]
    }
   ],
   "source": [
    "def isAnagram(s: str, t: str) -> bool:\n",
    "    if len(s) != len(t):\n",
    "        return False\n",
    "    \n",
    "    countS, countT = {}, {}\n",
    "    \n",
    "    for i in range(len(s)):\n",
    "        countS[s[i]] = 1 + countS.get(s[i], 0)\n",
    "        countT[t[i]] = 1 + countT.get(t[i], 0)\n",
    "    for c in countS:\n",
    "        if countS[c] != countT.get(c, 0):\n",
    "            return False\n",
    "    return True\n",
    "\n",
    "# ? Driver code\n",
    "if __name__==\"__main__\":\n",
    "    t = int(input())\n",
    "    for _ in range(t):\n",
    "        string1 = input()\n",
    "        string2 = input()\n",
    "        print(isAnagram(string1, string2))"
   ]
  }
 ],
 "metadata": {
  "kernelspec": {
   "display_name": "Python 3 (ipykernel)",
   "language": "python",
   "name": "python3"
  },
  "language_info": {
   "codemirror_mode": {
    "name": "ipython",
    "version": 3
   },
   "file_extension": ".py",
   "mimetype": "text/x-python",
   "name": "python",
   "nbconvert_exporter": "python",
   "pygments_lexer": "ipython3",
   "version": "3.11.3"
  },
  "vscode": {
   "interpreter": {
    "hash": "26de051ba29f2982a8de78e945f0abaf191376122a1563185a90213a26c5da77"
   }
  }
 },
 "nbformat": 4,
 "nbformat_minor": 2
}
