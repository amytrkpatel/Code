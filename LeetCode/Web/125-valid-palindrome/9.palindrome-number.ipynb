{
 "cells": [
  {
   "cell_type": "markdown",
   "metadata": {},
   "source": [
    "### Palindrome Number\n",
    "\n",
    "Problem Link :> https://leetcode.com/problems/palindrome-number/\n",
    "\n",
    "```python\n",
    "Given an integer x, return true if x is a \n",
    "palindrome\n",
    ", and false otherwise.\n",
    "\n",
    " \n",
    "\n",
    "Example 1:\n",
    "\n",
    "Input: x = 121\n",
    "Output: true\n",
    "Explanation: 121 reads as 121 from left to right and from right to left.\n",
    "Example 2:\n",
    "\n",
    "Input: x = -121\n",
    "Output: false\n",
    "Explanation: From left to right, it reads -121. From right to left, it becomes 121-. Therefore it is not a palindrome.\n",
    "Example 3:\n",
    "\n",
    "Input: x = 10\n",
    "Output: false\n",
    "Explanation: Reads 01 from right to left. Therefore it is not a palindrome.\n",
    " \n",
    "\n",
    "Constraints:\n",
    "\n",
    "-231 <= x <= 231 - 1\n",
    " \n",
    "\n",
    "Follow up: Could you solve it without converting the integer to a string?\n",
    "```\n",
    "\n",
    "Use Website: https://www.timecomplexity.ai/"
   ]
  },
  {
   "cell_type": "markdown",
   "metadata": {},
   "source": [
    "#### Approach 1\n",
    "Explaination:\n",
    "Convert to string and then compare the original string and reverse of it, if both are equal its a palindrome.\n",
    "\n",
    "Time Complexity: O(n)"
   ]
  },
  {
   "cell_type": "code",
   "execution_count": null,
   "metadata": {},
   "outputs": [],
   "source": [
    "#Code: use Python CP Template\n",
    "def isPalindrome(x):\n",
    "    #Convert it to string\n",
    "    x_str = str(x)\n",
    "    \n",
    "    #Reverse x\n",
    "    x_str_reversed = x_str[::-1]\n",
    "    \n",
    "    #Check if both are same\n",
    "    if x_str == x_str_reversed:\n",
    "        return True\n",
    "    else:\n",
    "        return False\n",
    "\n",
    "#Driver code\n",
    "if __name__==\"__main__\":\n",
    "    t = int(input('Enter Number of TestCases: '))\n",
    "    for _ in range(t):\n",
    "        x = int(input()) # ! Number input\n",
    "        print(isPalindrome(x))"
   ]
  },
  {
   "cell_type": "markdown",
   "metadata": {},
   "source": [
    "#### Approach 2\n",
    "Explaination: Reverse an integer using modulo and division and the compare the integer is equal to reverse integer or not\n",
    "\n",
    "Time Complexity: O(logn)"
   ]
  },
  {
   "cell_type": "code",
   "execution_count": 16,
   "metadata": {},
   "outputs": [
    {
     "name": "stdout",
     "output_type": "stream",
     "text": [
      "False\n"
     ]
    }
   ],
   "source": [
    "#Code: use Python CP Template\n",
    "def isPalindrome(x):\n",
    "    #write your code here\n",
    "    x_temp = x\n",
    "    x_reversed = 0\n",
    "    \n",
    "    if x < 0:\n",
    "        return False\n",
    "    \n",
    "    while x_temp:\n",
    "        unit_digit = x_temp%10\n",
    "        x_reversed = x_reversed * 10 + unit_digit\n",
    "        x_temp = x_temp//10\n",
    "    if x == x_reversed:\n",
    "        return True\n",
    "    else:\n",
    "        return False\n",
    "#Driver code\n",
    "if __name__==\"__main__\":\n",
    "    t = int(input('Enter Number of TestCases: '))\n",
    "    for _ in range(t):\n",
    "        x = int(input()) # ! Number input\n",
    "        print(isPalindrome(x))"
   ]
  },
  {
   "cell_type": "code",
   "execution_count": null,
   "metadata": {},
   "outputs": [],
   "source": []
  }
 ],
 "metadata": {
  "kernelspec": {
   "display_name": "Python 3 (ipykernel)",
   "language": "python",
   "name": "python3"
  },
  "language_info": {
   "codemirror_mode": {
    "name": "ipython",
    "version": 3
   },
   "file_extension": ".py",
   "mimetype": "text/x-python",
   "name": "python",
   "nbconvert_exporter": "python",
   "pygments_lexer": "ipython3",
   "version": "3.11.3"
  },
  "vscode": {
   "interpreter": {
    "hash": "26de051ba29f2982a8de78e945f0abaf191376122a1563185a90213a26c5da77"
   }
  }
 },
 "nbformat": 4,
 "nbformat_minor": 2
}
