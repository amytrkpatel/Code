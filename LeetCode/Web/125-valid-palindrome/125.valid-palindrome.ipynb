{
 "cells": [
  {
   "cell_type": "markdown",
   "metadata": {},
   "source": [
    "### 125. Valid Palindrome\n",
    "\n",
    "Problem Link :> https://leetcode.com/problems/valid-palindrome/\n",
    "\n",
    "```python\n",
    "A phrase is a palindrome if, after converting all uppercase letters into lowercase letters and removing all non-alphanumeric characters, it reads the same forward and backward. Alphanumeric characters include letters and numbers.\n",
    "\n",
    "Given a string s, return true if it is a palindrome, or false otherwise.\n",
    "\n",
    " \n",
    "\n",
    "Example 1:\n",
    "\n",
    "Input: s = \"A man, a plan, a canal: Panama\"\n",
    "Output: true\n",
    "Explanation: \"amanaplanacanalpanama\" is a palindrome.\n",
    "Example 2:\n",
    "\n",
    "Input: s = \"race a car\"\n",
    "Output: false\n",
    "Explanation: \"raceacar\" is not a palindrome.\n",
    "Example 3:\n",
    "\n",
    "Input: s = \" \"\n",
    "Output: true\n",
    "Explanation: s is an empty string \"\" after removing non-alphanumeric characters.\n",
    "Since an empty string reads the same forward and backward, it is a palindrome.\n",
    " \n",
    "\n",
    "Constraints:\n",
    "\n",
    "1 <= s.length <= 2 * 105\n",
    "s consists only of printable ASCII characters.\n",
    "```"
   ]
  },
  {
   "cell_type": "markdown",
   "metadata": {},
   "source": [
    "#### Approach1:\n",
    "working here but failing for some reason in Leetcode\n",
    "\n",
    "#### Complexity analysis\n",
    "Use Website: https://www.timecomplexity.ai/"
   ]
  },
  {
   "cell_type": "code",
   "execution_count": 15,
   "metadata": {},
   "outputs": [
    {
     "name": "stdout",
     "output_type": "stream",
     "text": [
      "raceacar\n",
      "False\n"
     ]
    }
   ],
   "source": [
    "def isPalindrome(s):\n",
    "    pal_s = ''\n",
    "    # Filters plain text\n",
    "    for i in s:\n",
    "        if (ord(i) >= ord('a') and ord(i) <= ord('z')) or (ord(i) >= ord('A') and ord(i) <= ord('Z')):\n",
    "            pal_s += i.lower()\n",
    "    print(pal_s)\n",
    "    \n",
    "    if len(pal_s) == 1:\n",
    "        return False\n",
    "    \n",
    "    n = len(pal_s)\n",
    "    for i in range(0,n//2):\n",
    "        print(pal_s[i] + \" == \" + pal_s[n-1-i])\n",
    "        if pal_s[i] != pal_s[n-1-i]:\n",
    "            return False\n",
    "    return True"
   ]
  },
  {
   "cell_type": "markdown",
   "metadata": {},
   "source": [
    "#### Approach 2 or Standard Solution\n",
    "explaination\n",
    "#### Complexity analysis\n",
    "Use Website: https://www.timecomplexity.ai/"
   ]
  },
  {
   "cell_type": "code",
   "execution_count": 16,
   "metadata": {},
   "outputs": [
    {
     "name": "stdout",
     "output_type": "stream",
     "text": [
      "raceacar\n",
      "false\n"
     ]
    }
   ],
   "source": [
    "#Problem Link :> #Link\n",
    "\n",
    "def isPalindrome(s):\n",
    "    # Filters plain text\n",
    "    pal_s = ''.join(x.lower() for x in s if x.isalnum())\n",
    "    return pal_s == pal_s[::-1]"
   ]
  },
  {
   "cell_type": "code",
   "execution_count": null,
   "metadata": {},
   "outputs": [],
   "source": [
    "# ? Driver code\n",
    "#Driver code\n",
    "if __name__==\"__main__\":\n",
    "    t = int(input('Enter Number of TestCases'))\n",
    "    for _ in range(t):\n",
    "        # ? Remove what is not needed from below samples:\n",
    "        s = input() # ! Normal input\n",
    "        print(isPalindrome(s))"
   ]
  }
 ],
 "metadata": {
  "kernelspec": {
   "display_name": "Python 3 (ipykernel)",
   "language": "python",
   "name": "python3"
  },
  "language_info": {
   "codemirror_mode": {
    "name": "ipython",
    "version": 3
   },
   "file_extension": ".py",
   "mimetype": "text/x-python",
   "name": "python",
   "nbconvert_exporter": "python",
   "pygments_lexer": "ipython3",
   "version": "3.11.3"
  },
  "vscode": {
   "interpreter": {
    "hash": "26de051ba29f2982a8de78e945f0abaf191376122a1563185a90213a26c5da77"
   }
  }
 },
 "nbformat": 4,
 "nbformat_minor": 2
}
