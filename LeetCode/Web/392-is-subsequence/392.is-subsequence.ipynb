{
 "cells": [
  {
   "cell_type": "markdown",
   "id": "b702cef1",
   "metadata": {},
   "source": [
    "#### Is Subsequence\n",
    "\n",
    "Problem Link: https://leetcode.com/problems/is-subsequence/\n",
    "\n",
    "```python\n",
    "Given two strings s and t, return true if s is a subsequence of t, or false otherwise.\n",
    "\n",
    "A subsequence of a string is a new string that is formed from the original string by deleting some (can be none) of the characters without disturbing the relative positions of the remaining characters. (i.e., \"ace\" is a subsequence of \"abcde\" while \"aec\" is not).\n",
    "\n",
    " \n",
    "\n",
    "Example 1:\n",
    "\n",
    "Input: s = \"abc\", t = \"ahbgdc\"\n",
    "Output: true\n",
    "Example 2:\n",
    "\n",
    "Input: s = \"axc\", t = \"ahbgdc\"\n",
    "Output: false\n",
    " \n",
    "\n",
    "Constraints:\n",
    "\n",
    "0 <= s.length <= 100\n",
    "0 <= t.length <= 104\n",
    "s and t consist only of lowercase English letters.\n",
    " \n",
    "\n",
    "Follow up: Suppose there are lots of incoming s, say s1, s2, ..., sk where k >= 109, and you want to check one by one to see if t has its subsequence. In this scenario, how would you change your code?\n",
    "```"
   ]
  },
  {
   "cell_type": "markdown",
   "id": "b5e8b463",
   "metadata": {},
   "source": [
    "### Approach 1:"
   ]
  },
  {
   "cell_type": "code",
   "execution_count": 12,
   "id": "4e030f8e",
   "metadata": {},
   "outputs": [
    {
     "name": "stdout",
     "output_type": "stream",
     "text": [
      "1\n",
      "amit\n",
      "mi\n",
      "False\n"
     ]
    }
   ],
   "source": [
    "def isSubsequence(s: str, t: str) -> bool:\n",
    "    if not s:\n",
    "        return True\n",
    "    s = list(s)\n",
    "    for alphabet in t:\n",
    "        if alphabet == s[0]:\n",
    "            s.remove(s[0])\n",
    "        if not s:\n",
    "            return True\n",
    "    return False"
   ]
  },
  {
   "cell_type": "markdown",
   "id": "ac246ae0",
   "metadata": {},
   "source": [
    "### Approach 2: \n",
    "Fails because it search for a substring in Main string, instead we have to check if all characters of substring are in Main string"
   ]
  },
  {
   "cell_type": "code",
   "execution_count": 3,
   "id": "de202e5d",
   "metadata": {},
   "outputs": [],
   "source": [
    "def isSubsequence(s: str, t: str) -> bool:\n",
    "    if not s:\n",
    "        return True\n",
    "    if s in t:\n",
    "        return True\n",
    "    return False"
   ]
  },
  {
   "cell_type": "markdown",
   "id": "33f2ba9d",
   "metadata": {},
   "source": [
    "#### Driver Code"
   ]
  },
  {
   "cell_type": "code",
   "execution_count": 4,
   "id": "95d4f726",
   "metadata": {},
   "outputs": [
    {
     "name": "stdout",
     "output_type": "stream",
     "text": [
      "True\n"
     ]
    }
   ],
   "source": [
    "if __name__==\"__main__\":\n",
    "    t = int(input())\n",
    "    for _ in range(t):\n",
    "        subString = input()\n",
    "        completeText = input()\n",
    "        print(isSubsequence(subString,completeText))"
   ]
  }
 ],
 "metadata": {
  "kernelspec": {
   "display_name": "Python 3 (ipykernel)",
   "language": "python",
   "name": "python3"
  },
  "language_info": {
   "codemirror_mode": {
    "name": "ipython",
    "version": 3
   },
   "file_extension": ".py",
   "mimetype": "text/x-python",
   "name": "python",
   "nbconvert_exporter": "python",
   "pygments_lexer": "ipython3",
   "version": "3.11.3"
  }
 },
 "nbformat": 4,
 "nbformat_minor": 5
}
