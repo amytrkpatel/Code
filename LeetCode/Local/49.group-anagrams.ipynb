{
 "cells": [
  {
   "cell_type": "markdown",
   "metadata": {},
   "source": [
    "### Group Anagrams\n",
    "\n",
    "Problem Link :> https://leetcode.com/problems/group-anagrams/description/\n",
    "\n",
    "```python\n",
    "Given an array of strings strs, group the anagrams together. You can return the answer in any order.\n",
    "\n",
    "An Anagram is a word or phrase formed by rearranging the letters of a different word or phrase, typically using all the original letters exactly once.\n",
    "\n",
    " \n",
    "\n",
    "Example 1:\n",
    "\n",
    "Input: strs = [\"eat\",\"tea\",\"tan\",\"ate\",\"nat\",\"bat\"]\n",
    "Output: [[\"bat\"],[\"nat\",\"tan\"],[\"ate\",\"eat\",\"tea\"]]\n",
    "Example 2:\n",
    "\n",
    "Input: strs = [\"\"]\n",
    "Output: [[\"\"]]\n",
    "Example 3:\n",
    "\n",
    "Input: strs = [\"a\"]\n",
    "Output: [[\"a\"]]\n",
    " \n",
    "\n",
    "Constraints:\n",
    "\n",
    "1 <= strs.length <= 104\n",
    "0 <= strs[i].length <= 100\n",
    "strs[i] consists of lowercase English letters.\n",
    "```"
   ]
  },
  {
   "cell_type": "markdown",
   "metadata": {},
   "source": [
    "#### Approach1: FAILED\n",
    "Using Dictionary, iterating over the list of string and adding them as key value pair in a dictionary, where key is the string itself and value is the sorted version of it. Now we have a dictionary of the same length as the original list. Now, traverse the dict by value and get all the keys for that particular value, add them into a list as list, onto the next one where if it has already been seen earlier we skip it\n",
    "\n",
    "Failing in case of [\"\",\"b\"]\n",
    "\n",
    "#### Complexity analysis\n",
    "Use Website: https://www.timecomplexity.ai/"
   ]
  },
  {
   "cell_type": "code",
   "execution_count": 14,
   "metadata": {},
   "outputs": [
    {
     "name": "stdout",
     "output_type": "stream",
     "text": [
      "{'ate': 'aet', 'eat': 'aet', 'tan': 'ant', 'ban': 'abn', 'tae': 'aet'}\n",
      "{'aet': ['ate', 'eat', 'tae'], 'ant': ['tan'], 'abn': ['ban']}\n",
      "[['ate', 'eat', 'tae'], ['tan'], ['ban']]\n"
     ]
    }
   ],
   "source": [
    "def groupAnagrams(strs):\n",
    "    list_blank_strings = 0\n",
    "    for s in strs:\n",
    "        list_blank_strings += len(s)\n",
    "    if list_blank_strings == 0:\n",
    "        return [strs]\n",
    "    # blank_list = True\n",
    "    # for s in strs:\n",
    "    #     if len(s) > 1:\n",
    "    #         blank_list = False\n",
    "    #         break\n",
    "    # if blank_list:\n",
    "    #     return [strs]\n",
    "    else:        \n",
    "        dict_of_anagrams = {strs[i]: ''.join(sorted(strs[i])) for i in range(0, len(strs))}\n",
    "        print(dict_of_anagrams)\n",
    "        dict_new = {}\n",
    "        for key, value in dict_of_anagrams.items():\n",
    "            if value not in dict_new.keys():\n",
    "                dict_new[value] = [key]\n",
    "            else:\n",
    "                dict_new[value].append(key)\n",
    "        print(dict_new)\n",
    "        result = [value for key, value in dict_new.items()]\n",
    "        return result\n",
    "\n",
    "#Driver code\n",
    "if __name__==\"__main__\":\n",
    "    t = int(input('Enter Number of TestCases'))\n",
    "    for _ in range(t):\n",
    "        strs = list(map(str,input('Enter Space separated Array').split())) #for taking space separated ints input as array\n",
    "        print(groupAnagrams(strs))"
   ]
  },
  {
   "cell_type": "markdown",
   "metadata": {},
   "source": [
    "#### Approach 2: PASSED\n",
    "\n",
    "\n",
    "#### Complexity analysis\n",
    "Use Website: https://www.timecomplexity.ai/\n",
    "\n",
    "O(n * k log k)\tThe time complexity is O(n * k log k) where n is the number of strings in the input list and k is the average length of each string. The code iterates through each string in the input list and sorts each string which takes O(k log k) time. Therefore, the overall time complexity is O(n * k log k)."
   ]
  },
  {
   "cell_type": "code",
   "execution_count": 24,
   "metadata": {},
   "outputs": [
    {
     "name": "stdout",
     "output_type": "stream",
     "text": [
      "[['c', 'c']]\n"
     ]
    }
   ],
   "source": [
    "from collections import defaultdict\n",
    "\n",
    "def groupAnagrams(strs):\n",
    "    if len(strs) == 0:\n",
    "        return [strs]\n",
    "    \n",
    "    dict_of_anagrams = defaultdict(str)\n",
    "    \n",
    "    for i in range(0, len(strs)):\n",
    "        if ''.join(sorted(strs[i])) not in dict_of_anagrams.keys():\n",
    "            dict_of_anagrams[''.join(sorted(strs[i]))] = [strs[i]]\n",
    "        else:\n",
    "            dict_of_anagrams[''.join(sorted(strs[i]))].append(strs[i])\n",
    "    result = [value for key, value in dict_of_anagrams.items()]\n",
    "    return result\n",
    "\n",
    "#Driver code\n",
    "if __name__==\"__main__\":\n",
    "    t = int(input('Enter Number of TestCases'))\n",
    "    for _ in range(t):\n",
    "        strs = list(map(str,input('Enter Space separated Array').split())) # ! for taking space separated ints input as array\n",
    "        print(groupAnagrams(strs))"
   ]
  }
 ],
 "metadata": {
  "kernelspec": {
   "display_name": "Python 3 (ipykernel)",
   "language": "python",
   "name": "python3"
  },
  "language_info": {
   "codemirror_mode": {
    "name": "ipython",
    "version": 3
   },
   "file_extension": ".py",
   "mimetype": "text/x-python",
   "name": "python",
   "nbconvert_exporter": "python",
   "pygments_lexer": "ipython3",
   "version": "3.11.3"
  },
  "vscode": {
   "interpreter": {
    "hash": "26de051ba29f2982a8de78e945f0abaf191376122a1563185a90213a26c5da77"
   }
  }
 },
 "nbformat": 4,
 "nbformat_minor": 2
}
