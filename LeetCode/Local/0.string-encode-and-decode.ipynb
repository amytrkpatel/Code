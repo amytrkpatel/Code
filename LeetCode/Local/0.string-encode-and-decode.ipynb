{
 "cells": [
  {
   "cell_type": "markdown",
   "metadata": {},
   "source": [
    "### String Encode and Decode\n",
    "\n",
    "Problem Link :> https://neetcode.io/problems/string-encode-and-decode\n",
    "\n",
    "```python\n",
    "Design an algorithm to encode a list of strings to a single string. The encoded string is then decoded back to the original list of strings.\n",
    "\n",
    "Please implement encode and decode\n",
    "\n",
    "Example 1:\n",
    "\n",
    "Input: [\"neet\",\"code\",\"love\",\"you\"]\n",
    "\n",
    "Output:[\"neet\",\"code\",\"love\",\"you\"]\n",
    "Example 2:\n",
    "\n",
    "Input: [\"we\",\"say\",\":\",\"yes\"]\n",
    "\n",
    "Output: [\"we\",\"say\",\":\",\"yes\"]\n",
    "Constraints:\n",
    "\n",
    "0 <= strs.length < 100\n",
    "0 <= strs[i].length < 200\n",
    "strs[i] contains only UTF-8 characters.\n",
    "```"
   ]
  },
  {
   "cell_type": "markdown",
   "metadata": {},
   "source": [
    "#### Approach1:\n",
    "explaination here\n",
    "\n",
    "#### Complexity analysis\n",
    "Use Website: https://www.timecomplexity.ai/"
   ]
  },
  {
   "cell_type": "code",
   "execution_count": 8,
   "metadata": {},
   "outputs": [],
   "source": [
    "def encode(strs):\n",
    "    encoded_string = \"\"\n",
    "    for s in strs:\n",
    "        encoded_string += str(len(s)) + \";\" + s\n",
    "    return encoded_string"
   ]
  },
  {
   "cell_type": "code",
   "execution_count": 11,
   "metadata": {},
   "outputs": [],
   "source": [
    "def decode(s):\n",
    "    res = []\n",
    "    i = 0\n",
    "    \n",
    "    while i < len(s):\n",
    "        j = i\n",
    "        while s[j] != ';':\n",
    "            j += 1\n",
    "        length = int(s[i:j])\n",
    "        i = j + 1\n",
    "        j = i + length\n",
    "        res.append(s[i:j])\n",
    "        i = j\n",
    "        \n",
    "    return res"
   ]
  },
  {
   "cell_type": "code",
   "execution_count": 12,
   "metadata": {},
   "outputs": [
    {
     "name": "stdout",
     "output_type": "stream",
     "text": [
      "['neet', 'code', 'we', 'love', 'you']\n"
     ]
    }
   ],
   "source": [
    "#Driver code\n",
    "if __name__==\"__main__\":\n",
    "    t = int(input('Enter Number of TestCases'))\n",
    "    for _ in range(t):\n",
    "        strs = list(map(str,input('Enter Space separated Array').split())) # ! for taking space separated ints input as array\n",
    "        s = encode(strs)\n",
    "        print(decode(s))"
   ]
  }
 ],
 "metadata": {
  "kernelspec": {
   "display_name": "Python 3 (ipykernel)",
   "language": "python",
   "name": "python3"
  },
  "language_info": {
   "codemirror_mode": {
    "name": "ipython",
    "version": 3
   },
   "file_extension": ".py",
   "mimetype": "text/x-python",
   "name": "python",
   "nbconvert_exporter": "python",
   "pygments_lexer": "ipython3",
   "version": "3.11.3"
  },
  "vscode": {
   "interpreter": {
    "hash": "26de051ba29f2982a8de78e945f0abaf191376122a1563185a90213a26c5da77"
   }
  }
 },
 "nbformat": 4,
 "nbformat_minor": 2
}
