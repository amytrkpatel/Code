{
 "cells": [
  {
   "cell_type": "markdown",
   "metadata": {},
   "source": [
    "### Longest Common Prefix\n",
    "\n",
    "Problem Link :> https://leetcode.com/problems/longest-common-prefix/description/\n",
    "\n",
    "```python\n",
    "Write a function to find the longest common prefix string amongst an array of strings.\n",
    "\n",
    "If there is no common prefix, return an empty string \"\".\n",
    "\n",
    " \n",
    "\n",
    "Example 1:\n",
    "\n",
    "Input: strs = [\"flower\",\"flow\",\"flight\"]\n",
    "Output: \"fl\"\n",
    "Example 2:\n",
    "\n",
    "Input: strs = [\"dog\",\"racecar\",\"car\"]\n",
    "Output: \"\"\n",
    "Explanation: There is no common prefix among the input strings.\n",
    " \n",
    "\n",
    "Constraints:\n",
    "\n",
    "1 <= strs.length <= 200\n",
    "0 <= strs[i].length <= 200\n",
    "strs[i] consists of only lowercase English letters.\n",
    "```"
   ]
  },
  {
   "cell_type": "markdown",
   "metadata": {},
   "source": [
    "#### Approach1: Brute Force\n",
    "\n",
    "\n",
    "#### Complexity analysis\n",
    "Use Website: https://www.timecomplexity.ai/\n",
    "\n",
    "O(n*m) - The code has a nested loop where the outer loop iterates through the characters of the first string in the list (strs[0]) and the inner loop iterates through each string in the list. In the worst case scenario, the outer loop will iterate through the length of the longest string in the list (m) and the inner loop will iterate through all strings in the list (n), resulting in a time complexity of O(n*m)."
   ]
  },
  {
   "cell_type": "code",
   "execution_count": 8,
   "metadata": {},
   "outputs": [
    {
     "name": "stdout",
     "output_type": "stream",
     "text": [
      "amit\n"
     ]
    }
   ],
   "source": [
    "def longestCommonPrefix(strs):\n",
    "    common = \"\"\n",
    "    for i in range(len(strs[0])):\n",
    "        for s in strs:\n",
    "            if i == len(s) or s[i] != strs[0][i]:\n",
    "                return common\n",
    "        common += strs[0][i]\n",
    "    return common\n",
    "\n",
    "#Driver code\n",
    "if __name__==\"__main__\":\n",
    "    t = int(input('Enter Number of TestCases'))\n",
    "    for _ in range(t):\n",
    "        strs = list(map(str,input('Enter Space separated Array').split())) # ! for taking space separated ints/str (make int as str) input as array\n",
    "        print(longestCommonPrefix(strs))"
   ]
  },
  {
   "cell_type": "markdown",
   "metadata": {},
   "source": [
    "#### Approach 2: Standard Solution\n",
    "\n",
    "\n",
    "#### Complexity analysis\n",
    "Use Website: https://www.timecomplexity.ai/\n",
    "\n",
    "O(n*log(n))\t- The code first sorts the input list of strings, which has a time complexity of O(n*log(n)), where n is the number of strings in the list. Then, it iterates through the characters of the first and last strings in the sorted list, which has a time complexity of O(n) since it only goes through the length of the shortest string. Therefore, the overall time complexity is O(n*log(n)) + O(n) = O(n*log(n))."
   ]
  },
  {
   "cell_type": "code",
   "execution_count": 7,
   "metadata": {},
   "outputs": [
    {
     "name": "stdout",
     "output_type": "stream",
     "text": [
      "amit\n"
     ]
    }
   ],
   "source": [
    "def longestCommonPrefix(strs):\n",
    "    common = \"\"\n",
    "    strs = sorted(strs)\n",
    "    first = strs[0]\n",
    "    last = strs[-1]\n",
    "    for i in range(min(len(first),len(last)):\n",
    "        if first[i] != last[i]:\n",
    "            return common\n",
    "        else:\n",
    "            common += first[i]\n",
    "    return common\n",
    "\n",
    "#Driver code\n",
    "if __name__==\"__main__\":\n",
    "    t = int(input('Enter Number of TestCases'))\n",
    "    for _ in range(t):\n",
    "        strs = list(map(str,input('Enter Space separated Array').split())) # ! for taking space separated ints/str (make int as str) input as array\n",
    "        print(longestCommonPrefix(strs))"
   ]
  }
 ],
 "metadata": {
  "kernelspec": {
   "display_name": "Python 3 (ipykernel)",
   "language": "python",
   "name": "python3"
  },
  "language_info": {
   "codemirror_mode": {
    "name": "ipython",
    "version": 3
   },
   "file_extension": ".py",
   "mimetype": "text/x-python",
   "name": "python",
   "nbconvert_exporter": "python",
   "pygments_lexer": "ipython3",
   "version": "3.11.3"
  },
  "vscode": {
   "interpreter": {
    "hash": "26de051ba29f2982a8de78e945f0abaf191376122a1563185a90213a26c5da77"
   }
  }
 },
 "nbformat": 4,
 "nbformat_minor": 2
}
