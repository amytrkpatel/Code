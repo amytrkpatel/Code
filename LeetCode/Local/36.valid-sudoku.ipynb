{
 "cells": [
  {
   "cell_type": "markdown",
   "metadata": {},
   "source": [
    "### Valid Sudoku\n",
    "\n",
    "Problem Link :> https://leetcode.com/problems/valid-sudoku/description/\n",
    "\n",
    "```python\n",
    "Determine if a 9 x 9 Sudoku board is valid. Only the filled cells need to be validated according to the following rules:\n",
    "\n",
    "Each row must contain the digits 1-9 without repetition.\n",
    "Each column must contain the digits 1-9 without repetition.\n",
    "Each of the nine 3 x 3 sub-boxes of the grid must contain the digits 1-9 without repetition.\n",
    "Note:\n",
    "\n",
    "A Sudoku board (partially filled) could be valid but is not necessarily solvable.\n",
    "Only the filled cells need to be validated according to the mentioned rules.\n",
    " \n",
    "\n",
    "Example 1:\n",
    "\n",
    "\n",
    "Input: board = \n",
    "[[\"5\",\"3\",\".\",\".\",\"7\",\".\",\".\",\".\",\".\"]\n",
    ",[\"6\",\".\",\".\",\"1\",\"9\",\"5\",\".\",\".\",\".\"]\n",
    ",[\".\",\"9\",\"8\",\".\",\".\",\".\",\".\",\"6\",\".\"]\n",
    ",[\"8\",\".\",\".\",\".\",\"6\",\".\",\".\",\".\",\"3\"]\n",
    ",[\"4\",\".\",\".\",\"8\",\".\",\"3\",\".\",\".\",\"1\"]\n",
    ",[\"7\",\".\",\".\",\".\",\"2\",\".\",\".\",\".\",\"6\"]\n",
    ",[\".\",\"6\",\".\",\".\",\".\",\".\",\"2\",\"8\",\".\"]\n",
    ",[\".\",\".\",\".\",\"4\",\"1\",\"9\",\".\",\".\",\"5\"]\n",
    ",[\".\",\".\",\".\",\".\",\"8\",\".\",\".\",\"7\",\"9\"]]\n",
    "Output: true\n",
    "Example 2:\n",
    "\n",
    "Input: board = \n",
    "[[\"8\",\"3\",\".\",\".\",\"7\",\".\",\".\",\".\",\".\"]\n",
    ",[\"6\",\".\",\".\",\"1\",\"9\",\"5\",\".\",\".\",\".\"]\n",
    ",[\".\",\"9\",\"8\",\".\",\".\",\".\",\".\",\"6\",\".\"]\n",
    ",[\"8\",\".\",\".\",\".\",\"6\",\".\",\".\",\".\",\"3\"]\n",
    ",[\"4\",\".\",\".\",\"8\",\".\",\"3\",\".\",\".\",\"1\"]\n",
    ",[\"7\",\".\",\".\",\".\",\"2\",\".\",\".\",\".\",\"6\"]\n",
    ",[\".\",\"6\",\".\",\".\",\".\",\".\",\"2\",\"8\",\".\"]\n",
    ",[\".\",\".\",\".\",\"4\",\"1\",\"9\",\".\",\".\",\"5\"]\n",
    ",[\".\",\".\",\".\",\".\",\"8\",\".\",\".\",\"7\",\"9\"]]\n",
    "Output: false\n",
    "Explanation: Same as Example 1, except with the 5 in the top left corner being modified to 8. Since there are two 8's in the top left 3x3 sub-box, it is invalid.\n",
    " \n",
    "\n",
    "Constraints:\n",
    "\n",
    "board.length == 9\n",
    "board[i].length == 9\n",
    "board[i][j] is a digit 1-9 or '.'.\n",
    "```"
   ]
  },
  {
   "cell_type": "markdown",
   "metadata": {},
   "source": [
    "#### Approach1:\n",
    "explaination: \n",
    "\n",
    "#### Complexity analysis\n",
    "Use Website: https://www.timecomplexity.ai/"
   ]
  },
  {
   "cell_type": "code",
   "execution_count": 22,
   "metadata": {},
   "outputs": [
    {
     "name": "stdout",
     "output_type": "stream",
     "text": [
      "For 8: \n",
      "For 3: \n",
      "For .: \n",
      "For .: \n",
      "For 7: \n",
      "For .: \n",
      "For .: \n",
      "For .: \n",
      "For .: \n",
      "For 6: \n",
      "For .: \n",
      "For .: \n",
      "For 1: \n",
      "For 9: \n",
      "For 5: \n",
      "For .: \n",
      "For .: \n",
      "For .: \n",
      "For .: \n",
      "For 9: \n",
      "For 8: \n",
      "For .: \n",
      "For .: \n",
      "For .: \n",
      "For .: \n",
      "For 6: \n",
      "For .: \n",
      "False\n"
     ]
    }
   ],
   "source": [
    "#Row wise iteration\n",
    "\n",
    "sudo = [[\"8\",\"3\",\".\",\".\",\"7\",\".\",\".\",\".\",\".\"]\n",
    ",[\"6\",\".\",\".\",\"1\",\"9\",\"5\",\".\",\".\",\".\"]\n",
    ",[\".\",\"9\",\"8\",\".\",\".\",\".\",\".\",\"6\",\".\"]\n",
    ",[\"8\",\".\",\".\",\".\",\"6\",\".\",\".\",\".\",\"3\"]\n",
    ",[\"4\",\".\",\".\",\"8\",\".\",\"3\",\".\",\".\",\"1\"]\n",
    ",[\"7\",\".\",\".\",\".\",\"2\",\".\",\".\",\"6\",\"6\"]\n",
    ",[\".\",\"6\",\".\",\".\",\".\",\".\",\"2\",\"8\",\".\"]\n",
    ",[\".\",\".\",\".\",\"4\",\"1\",\"9\",\".\",\".\",\"5\"]\n",
    ",[\".\",\".\",\".\",\".\",\"8\",\".\",\".\",\"7\",\"9\"]]\n",
    "\n",
    "m = len(sudo[0])\n",
    "# print(m)\n",
    "\n",
    "n = len(sudo[1])\n",
    "# print(n)\n",
    "\n",
    "valid_sudoku = True\n",
    "check_duplicate_list = []\n",
    "\n",
    "for i in range(m):\n",
    "    for j in range(n):\n",
    "        print(\"For \" + sudo[i][j] + \": \")\n",
    "        if sudo[i][j] == '.':\n",
    "            continue\n",
    "        elif int(sudo[i][j]) < 1 or int(sudo[i][j]) > 9:\n",
    "            valid_sudoku = False\n",
    "            break\n",
    "        elif int(sudo[i][j]) in check_duplicate_list:\n",
    "            valid_sudoku = False\n",
    "        else:\n",
    "            check_duplicate_list.append(int(sudo[i][j]))\n",
    "    if not valid_sudoku:\n",
    "        break\n",
    "\n",
    "print(valid_sudoku)"
   ]
  },
  {
   "cell_type": "code",
   "execution_count": 20,
   "metadata": {},
   "outputs": [
    {
     "name": "stdout",
     "output_type": "stream",
     "text": [
      "For 8: \n",
      "For 6: \n",
      "For .: \n",
      "For 8: \n",
      "For 11: \n",
      "False\n"
     ]
    }
   ],
   "source": [
    "#Column wise iteration\n",
    "\n",
    "sudo = [[\"8\",\"3\",\".\",\".\",\"7\",\".\",\".\",\".\",\".\"]\n",
    ",[\"6\",\".\",\".\",\"1\",\"9\",\"5\",\".\",\".\",\".\"]\n",
    ",[\".\",\"9\",\"8\",\".\",\".\",\".\",\".\",\"6\",\".\"]\n",
    ",[\"8\",\".\",\".\",\".\",\"6\",\".\",\".\",\".\",\"3\"]\n",
    ",[\"11\",\".\",\".\",\"8\",\".\",\"3\",\".\",\".\",\"1\"]\n",
    ",[\"7\",\".\",\".\",\".\",\"2\",\".\",\".\",\".\",\"6\"]\n",
    ",[\".\",\"6\",\".\",\".\",\".\",\".\",\"2\",\"8\",\".\"]\n",
    ",[\".\",\".\",\".\",\"4\",\"1\",\"9\",\".\",\".\",\"5\"]\n",
    ",[\".\",\".\",\".\",\".\",\"8\",\".\",\".\",\"7\",\"9\"]]\n",
    "\n",
    "m = len(sudo[0])\n",
    "# print(m)\n",
    "\n",
    "n = len(sudo[1])\n",
    "# print(n)\n",
    "\n",
    "valid_sudoku = True\n",
    "\n",
    "for i in range(m):\n",
    "    for j in range(n):\n",
    "        print(\"For \" + sudo[j][i] + \": \")\n",
    "        if sudo[j][i] == '.':\n",
    "            continue\n",
    "        elif int(sudo[j][i]) < 1 or int(sudo[j][i]) > 9:\n",
    "            valid_sudoku = False\n",
    "            break\n",
    "        elif int(sudo[j][i]) in check_duplicate_list:\n",
    "            valid_sudoku = False\n",
    "        else:\n",
    "            check_duplicate_list.append(int(sudo[j][i]))\n",
    "    if not valid_sudoku:\n",
    "        break\n",
    "\n",
    "print(valid_sudoku)"
   ]
  },
  {
   "cell_type": "markdown",
   "metadata": {},
   "source": [
    "#### Approach 2 or Standard Solution\n",
    "explaination:\n",
    "\n",
    "#### Complexity analysis\n",
    "Use Website: https://www.timecomplexity.ai/"
   ]
  },
  {
   "cell_type": "code",
   "execution_count": 2,
   "metadata": {},
   "outputs": [],
   "source": [
    "#Code: use Python CP Template"
   ]
  }
 ],
 "metadata": {
  "kernelspec": {
   "display_name": "Python 3 (ipykernel)",
   "language": "python",
   "name": "python3"
  },
  "language_info": {
   "codemirror_mode": {
    "name": "ipython",
    "version": 3
   },
   "file_extension": ".py",
   "mimetype": "text/x-python",
   "name": "python",
   "nbconvert_exporter": "python",
   "pygments_lexer": "ipython3",
   "version": "3.11.3"
  },
  "vscode": {
   "interpreter": {
    "hash": "26de051ba29f2982a8de78e945f0abaf191376122a1563185a90213a26c5da77"
   }
  }
 },
 "nbformat": 4,
 "nbformat_minor": 2
}
